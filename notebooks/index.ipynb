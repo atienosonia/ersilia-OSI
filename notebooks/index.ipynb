{
 "cells": [
  {
   "cell_type": "code",
   "execution_count": 22,
   "metadata": {
    "scrolled": true
   },
   "outputs": [],
   "source": [
    "import pandas as pd\n",
    "import numpy as np\n",
    "\n",
    "from ersilia import ErsiliaModel\n",
    "\n",
    "from rdkit import Chem\n",
    "from rdkit.Chem.MolStandardize import rdMolStandardize\n",
    "from rdkit import RDLogger\n",
    "RDLogger.DisableLog(\"rsApp\")\n"
   ]
  },
  {
   "cell_type": "code",
   "execution_count": 2,
   "metadata": {},
   "outputs": [
    {
     "data": {
      "text/html": [
       "<div>\n",
       "<style scoped>\n",
       "    .dataframe tbody tr th:only-of-type {\n",
       "        vertical-align: middle;\n",
       "    }\n",
       "\n",
       "    .dataframe tbody tr th {\n",
       "        vertical-align: top;\n",
       "    }\n",
       "\n",
       "    .dataframe thead th {\n",
       "        text-align: right;\n",
       "    }\n",
       "</style>\n",
       "<table border=\"1\" class=\"dataframe\">\n",
       "  <thead>\n",
       "    <tr style=\"text-align: right;\">\n",
       "      <th></th>\n",
       "      <th>smiles</th>\n",
       "    </tr>\n",
       "  </thead>\n",
       "  <tbody>\n",
       "    <tr>\n",
       "      <th>0</th>\n",
       "      <td>CCCCNC(=S)N/N=C/C1=C(C)C=CS1</td>\n",
       "    </tr>\n",
       "    <tr>\n",
       "      <th>1</th>\n",
       "      <td>CN1C(SCC2=NC(C3=CC=CS3)=NO2)=NN=C1C1CCCCC1</td>\n",
       "    </tr>\n",
       "    <tr>\n",
       "      <th>2</th>\n",
       "      <td>O=C(O)CC(NC(=O)C1=CN=CC=N1)C1=CC=CC=C1Cl</td>\n",
       "    </tr>\n",
       "    <tr>\n",
       "      <th>3</th>\n",
       "      <td>O=S(=O)(C1=CC=CC=C1)N1CCN(C2=NOC3=CC=CC(Cl)=C2...</td>\n",
       "    </tr>\n",
       "    <tr>\n",
       "      <th>4</th>\n",
       "      <td>CCC[C@@H](C)N(C1=CC(Cl)=CC=C1CO)S(=O)(=O)C1=CC...</td>\n",
       "    </tr>\n",
       "  </tbody>\n",
       "</table>\n",
       "</div>"
      ],
      "text/plain": [
       "                                              smiles\n",
       "0                       CCCCNC(=S)N/N=C/C1=C(C)C=CS1\n",
       "1         CN1C(SCC2=NC(C3=CC=CS3)=NO2)=NN=C1C1CCCCC1\n",
       "2           O=C(O)CC(NC(=O)C1=CN=CC=N1)C1=CC=CC=C1Cl\n",
       "3  O=S(=O)(C1=CC=CC=C1)N1CCN(C2=NOC3=CC=CC(Cl)=C2...\n",
       "4  CCC[C@@H](C)N(C1=CC(Cl)=CC=C1CO)S(=O)(=O)C1=CC..."
      ]
     },
     "execution_count": 2,
     "metadata": {},
     "output_type": "execute_result"
    }
   ],
   "source": [
    "def load_data(path):\n",
    "\n",
    "    \"\"\"simple fuction to load in data\"\"\"\n",
    "\n",
    "    data = pd.read_csv(path)\n",
    "    return data\n",
    "    \n",
    "smiles_data = load_data(\"/home/sonia/ersilia-model-validation/data/reference_library.csv\")\n",
    "smiles_data.head()"
   ]
  },
  {
   "cell_type": "code",
   "execution_count": 3,
   "metadata": {},
   "outputs": [
    {
     "data": {
      "text/plain": [
       "['CN1C(SCC2=NC(C3=CC=CS3)=NO2)=NN=C1C1CCCCC1',\n",
       " 'O=C(O)CC(NC(=O)C1=CN=CC=N1)C1=CC=CC=C1Cl',\n",
       " 'O=S(=O)(C1=CC=CC=C1)N1CCN(C2=NOC3=CC=CC(Cl)=C23)CC1',\n",
       " 'CCC[C@@H](C)N(C1=CC(Cl)=CC=C1CO)S(=O)(=O)C1=CC=C(C)C=C1',\n",
       " 'CN1C(=O)C2=C(N=C(N3CCC[C@@H](N)C3)N2CC2=CC(F)=CC=C2Cl)C2=CC=C(C(=O)O)C=C12',\n",
       " 'CNC(=O)C1=CC=CC2=C1N=C(C1=CC=CC=C1O)N2CC1=CC=CC=C1',\n",
       " 'C[C@]12CC[C@H](S)C[C@H]1CCC1C3=CC[C@H](C4=CC(=O)OC4)[C@@]3(C)CCC21',\n",
       " 'CC1=C(C(=O)OCC2=CC=CC=C2)C(C2=CC=C(C3=CC=CC=C3C)C=C2)NC(=S)N1CCCCCC1=NN=NN1',\n",
       " 'CC(C)CC1=CC(C(=O)NCC2=CC=CN=C2)=NO1',\n",
       " 'COC(=O)CC1NN=C2N(CCN2C2=CC=C(Cl)C=C2)C1=O',\n",
       " 'CCN1C2=NC=C(COC3=CC=CC(C(=O)O)=C3)C=C2C(=O)N(C)C2=CC=C(Cl)N=C12',\n",
       " 'CC1=C(NC(=S)N/N=C\\\\C2=CC=CC=C2O)C(=O)N(C2=CC=CC=C2)N1C',\n",
       " 'C[C@@H](O)C1=NC(C2=NC(C3=NC(CO)=CS3)=CS2)=CS1',\n",
       " 'CCCCCCCCCCCC(=O)CCCC',\n",
       " 'C=CC1=C(N)N=CN=C1N1CCC(C2=NC(C3=CC=C(C(F)(F)F)C(F)=C3)=CN2CCN2CCCC2)CC1',\n",
       " 'O=C1/C(=N/C2=CC=C(O)C=C2)C(Cl)=C(O)C2=CC=CC=C12',\n",
       " 'O=C(O)CC[C@H](NC(=O)C1=CC=CC(C2=CC=CC=C2)=N1)C(=O)N1CCN(C(=O)OCCCC(F)(F)F)CC1',\n",
       " 'CC(=O)NC1=C2C(=NN1C1=CC=CC=C1)C[S+]([O-])C2',\n",
       " 'O=C(O)CSC(C(=O)NC1=CC=C(Cl)C=C1)C1=CC=CC=C1',\n",
       " 'O=[N+]([O-])/N=C1\\\\NCCN1CCCCl']"
      ]
     },
     "execution_count": 3,
     "metadata": {},
     "output_type": "execute_result"
    }
   ],
   "source": [
    "def smiles_list(data, col):\n",
    "\n",
    "    \"\"\"simple function to create a list from the smiles dataframe\"\"\"\n",
    "\n",
    "    lst = data[col].astype(str).tolist()\n",
    "    return lst\n",
    "\n",
    "column = 'smiles'\n",
    "sl = smiles_list(smiles_data, column)\n",
    "sl[1:21] # preview 20 elements from the list "
   ]
  },
  {
   "cell_type": "markdown",
   "metadata": {},
   "source": [
    "### *SMILES*\n",
    "Chemical compounds can be presented in various forms *i.e molecular formula*, **canonical smiles** are a simple representation of molecules in a text string format"
   ]
  },
  {
   "cell_type": "markdown",
   "metadata": {},
   "source": [
    "### Molecular Validation\n",
    "Molecular validation ensures molecules are reasonable for the task at hand, in this case machine learning. It removes compounds with bad elements and substructures. This is done by checking if SMILES can be converted into molecules or not"
   ]
  },
  {
   "cell_type": "code",
   "execution_count": 4,
   "metadata": {},
   "outputs": [
    {
     "name": "stdout",
     "output_type": "stream",
     "text": [
      "Number of molecules sanitized successfully: 1000\n",
      "Number of invalid SMILES: 0\n"
     ]
    }
   ],
   "source": [
    "# convert smiles_list to tuple\n",
    "smiles_tuple = tuple(sl)\n",
    "\n",
    "valid_molecules = []\n",
    "invalid_molecules = []\n",
    "\n",
    "for i in smiles_tuple:\n",
    "\n",
    "    # convert SMILES to molecules\n",
    "    mols = Chem.MolFromSmiles(i, sanitize = False) \n",
    "    mols.UpdatePropertyCache(strict=False)\n",
    "    \n",
    "    # sanitize molecules for validity\n",
    "    Chem.SanitizeMol(mols) \n",
    "    \n",
    "    if Chem.SanitizeMol(mols) == 0:\n",
    "        valid_molecules.append(mols) # append valid molecules to the list valid molecules\n",
    "    else:\n",
    "        invalid_molecules.append(mols) # append invalid molecues to the list invalid molecules\n",
    "\n",
    "# count valid and invalid SMILES\n",
    "print(f\"Number of molecules sanitized successfully: {len(valid_molecules)}\")\n",
    "print(f\"Number of invalid SMILES: {len(invalid_molecules)}\")"
   ]
  },
  {
   "cell_type": "markdown",
   "metadata": {},
   "source": [
    "### Molecular Standardization\n",
    "The main reason for standardization is to represent all molecules from different sources in a (single) standard way, for use in machine learning. The standardization looks at a number of different operations like neutralizing molecules, removing salts, modifying molecules and many others"
   ]
  },
  {
   "cell_type": "code",
   "execution_count": 23,
   "metadata": {},
   "outputs": [],
   "source": [
    "def standardize(smiles_tuple):\n",
    "    standardized_smiles_list = []\n",
    "\n",
    "    for smile in smiles_tuple:\n",
    "        try:\n",
    "            # Convert SMILES to molecules\n",
    "            mols = Chem.MolFromSmiles(smile, sanitize=False)\n",
    "            mols.UpdatePropertyCache(strict=False)\n",
    "\n",
    "            # Clean up the molecules\n",
    "            clean_mols = rdMolStandardize.Cleanup(mols)\n",
    "\n",
    "            # Get parent molecules\n",
    "            parent_clean_mols = rdMolStandardize.FragmentParent(clean_mols)\n",
    "\n",
    "            # Neutralize molecules\n",
    "            uncharger = rdMolStandardize.Uncharger()\n",
    "            uncharged_parent_clean_mols = uncharger.uncharge(parent_clean_mols)\n",
    "\n",
    "            # Eliminate pH balance\n",
    "            te = rdMolStandardize.TautomerEnumerator()\n",
    "            taut_uncharged_parent_clean_mols = te.Canonicalize(uncharged_parent_clean_mols)\n",
    "\n",
    "            # Convert standardized molecules back to SMILES\n",
    "            standardized_smiles = Chem.MolToSmiles(taut_uncharged_parent_clean_mols)\n",
    "\n",
    "            # Append the standardized SMILES to list\n",
    "            standardized_smiles_list.append(standardized_smiles)\n",
    "\n",
    "            \"\"\"\n",
    "            when you run the above function without the error exception below\n",
    "            you will come across the error KekulizeException: Can't kekulize mol.\n",
    "            this error occurs when a SMILE is missing either nitrogen or hydrogen atoms\n",
    "            in its structure,\n",
    "            you can manually find the SMILE giving out the error and\n",
    "            figure out where to add the atoms and the error would be erased.\n",
    "            \n",
    "            In the case you have limited knowledge on how to modify your SMILE\n",
    "            you can skip such SMILES and remain with the ones that can be kekulized\n",
    "            \"\"\"\n",
    "            \n",
    "        except Chem.KekulizeException as e:\n",
    "            # skip molecules that can't be kekulized\n",
    "            print(f\"Skipping molecule due to KekulizeException: {str(e)}\")\n",
    "            continue\n",
    "\n",
    "    return standardized_smiles_list"
   ]
  },
  {
   "cell_type": "code",
   "execution_count": 24,
   "metadata": {},
   "outputs": [
    {
     "name": "stdout",
     "output_type": "stream",
     "text": [
      "Skipping molecule due to KekulizeException: Can't kekulize mol.  Unkekulized atoms: 4 8\n",
      "Skipping molecule due to KekulizeException: Can't kekulize mol.  Unkekulized atoms: 2\n",
      "Skipping molecule due to KekulizeException: Can't kekulize mol.  Unkekulized atoms: 3 4 5 23\n",
      "Skipping molecule due to KekulizeException: Can't kekulize mol.  Unkekulized atoms: 16 17 18\n",
      "Skipping molecule due to KekulizeException: Can't kekulize mol.  Unkekulized atoms: 4 9\n"
     ]
    }
   ],
   "source": [
    "processed_smiles_list = standardize(smiles_tuple)"
   ]
  },
  {
   "cell_type": "code",
   "execution_count": 7,
   "metadata": {},
   "outputs": [
    {
     "data": {
      "text/plain": [
       "['Cn1c(SCc2nc(-c3cccs3)no2)nnc1C1CCCCC1',\n",
       " 'O=C(O)CC(NC(=O)c1cnccn1)c1ccccc1Cl',\n",
       " 'O=S(=O)(c1ccccc1)N1CCN(c2noc3cccc(Cl)c23)CC1',\n",
       " 'CCC[C@@H](C)N(c1cc(Cl)ccc1CO)S(=O)(=O)c1ccc(C)cc1',\n",
       " 'Cn1c(=O)c2c(nc(N3CCC[C@@H](N)C3)n2Cc2cc(F)ccc2Cl)c2ccc(C(=O)O)cc21',\n",
       " 'CNC(=O)c1cccc2c1nc(-c1ccccc1O)n2Cc1ccccc1',\n",
       " 'C[C@]12CCC3C(CC[C@@H]4C[C@@H](S)CC[C@]34C)C1=CC[C@@H]2C1=CC(=O)OC1',\n",
       " 'CC1=C(C(=O)OCc2ccccc2)C(c2ccc(-c3ccccc3C)cc2)NC(=S)N1CCCCCc1nn[nH]n1',\n",
       " 'CC(C)Cc1cc(C(=O)NCc2cccnc2)no1',\n",
       " 'COC(=O)CC1NN=C2N(CCN2c2ccc(Cl)cc2)C1=O',\n",
       " 'CCN1c2ncc(COc3cccc(C(=O)O)c3)cc2C(=O)N(C)c2ccc(Cl)nc21',\n",
       " 'Cc1c(NC(=S)NN=Cc2ccccc2O)c(=O)n(-c2ccccc2)n1C',\n",
       " 'C[C@@H](O)c1nc(-c2nc(-c3nc(CO)cs3)cs2)cs1',\n",
       " 'CCCCCCCCCCCC(=O)CCCC',\n",
       " 'C=Cc1c(N)ncnc1N1CCC(c2nc(-c3ccc(C(F)(F)F)c(F)c3)cn2CCN2CCCC2)CC1',\n",
       " 'O=C1C=CC(=Nc2c(Cl)c(O)c3ccccc3c2O)C=C1',\n",
       " 'O=C(O)CCC(NC(=O)c1cccc(-c2ccccc2)n1)C(=O)N1CCN(C(=O)OCCCC(F)(F)F)CC1',\n",
       " 'CC(=O)Nc1c2c(nn1-c1ccccc1)C[S+]([O-])C2',\n",
       " 'O=C(O)CSC(C(=O)Nc1ccc(Cl)cc1)c1ccccc1',\n",
       " 'O=[N+]([O-])NC1=NCCN1CCCCl']"
      ]
     },
     "execution_count": 7,
     "metadata": {},
     "output_type": "execute_result"
    }
   ],
   "source": [
    "# preview first 20 standardised molecules\n",
    "processed_smiles_list[1:21]"
   ]
  },
  {
   "cell_type": "code",
   "execution_count": 11,
   "metadata": {},
   "outputs": [
    {
     "name": "stdout",
     "output_type": "stream",
     "text": [
      "Number of SMILES after standardization:995\n"
     ]
    }
   ],
   "source": [
    "# length of standardized SMILES\n",
    "print(f\"Number of SMILES after standardization:{len(processed_smiles_list)}\")"
   ]
  },
  {
   "cell_type": "markdown",
   "metadata": {},
   "source": [
    "### Chemistry Machine Learning"
   ]
  },
  {
   "cell_type": "code",
   "execution_count": 9,
   "metadata": {},
   "outputs": [
    {
     "name": "stdout",
     "output_type": "stream",
     "text": [
      "Requested model eos2ta5 is not available locally. Do you want to fetch it? [Y/n]\n"
     ]
    },
    {
     "name": "stderr",
     "output_type": "stream",
     "text": [
      "sudo: unknown user udockerusername\n",
      "sudo: error initializing audit plugin sudoers_audit\n",
      "sudo: unknown user udockerusername\n",
      "sudo: error initializing audit plugin sudoers_audit\n"
     ]
    },
    {
     "name": "stdout",
     "output_type": "stream",
     "text": [
      "[]\n"
     ]
    },
    {
     "name": "stderr",
     "output_type": "stream",
     "text": [
      "sudo: unknown user udockerusername\n",
      "sudo: error initializing audit plugin sudoers_audit\n",
      "sudo: unknown user udockerusername\n",
      "sudo: error initializing audit plugin sudoers_audit\n",
      "sudo: unknown user udockerusername\n",
      "sudo: error initializing audit plugin sudoers_audit\n"
     ]
    },
    {
     "name": "stdout",
     "output_type": "stream",
     "text": [
      "🚀 Serving model eos2ta5: cardiotoxnet-herg\n",
      "\n",
      "   URL: http://127.0.0.1:59175\n",
      "   PID: 134997\n",
      "   SRV: conda\n",
      "\n",
      "👉 To run model:\n",
      "   - run\n",
      "\n",
      "💁 Information:\n",
      "   - info\n"
     ]
    },
    {
     "name": "stderr",
     "output_type": "stream",
     "text": [
      "sudo: unknown user udockerusername\n",
      "sudo: error initializing audit plugin sudoers_audit\n"
     ]
    },
    {
     "name": "stdout",
     "output_type": "stream",
     "text": [
      "⛔ Model eos2ta5 closed\n"
     ]
    },
    {
     "name": "stderr",
     "output_type": "stream",
     "text": [
      "sudo: unknown user udockerusername\n",
      "sudo: error initializing audit plugin sudoers_audit\n",
      "sudo: unknown user udockerusername\n",
      "sudo: error initializing audit plugin sudoers_audit\n"
     ]
    }
   ],
   "source": [
    "# instantiate model\n",
    "model = ErsiliaModel(\"eos2ta5\")\n",
    "\n",
    "# serve model\n",
    "model.serve()\n",
    "\n",
    "# make predictions\n",
    "# have the predictions in a pandas daframe\n",
    "output = model.run(processed_smiles_list, output=\"pandas\")\n",
    "\n",
    "# store predictions in a csv file\n",
    "output.to_csv(\"/home/sonia/ersilia-model-validation/data/output-predictions.csv\", index=False)"
   ]
  },
  {
   "cell_type": "code",
   "execution_count": 10,
   "metadata": {},
   "outputs": [
    {
     "data": {
      "text/html": [
       "<div>\n",
       "<style scoped>\n",
       "    .dataframe tbody tr th:only-of-type {\n",
       "        vertical-align: middle;\n",
       "    }\n",
       "\n",
       "    .dataframe tbody tr th {\n",
       "        vertical-align: top;\n",
       "    }\n",
       "\n",
       "    .dataframe thead th {\n",
       "        text-align: right;\n",
       "    }\n",
       "</style>\n",
       "<table border=\"1\" class=\"dataframe\">\n",
       "  <thead>\n",
       "    <tr style=\"text-align: right;\">\n",
       "      <th></th>\n",
       "      <th>key</th>\n",
       "      <th>input</th>\n",
       "      <th>probability</th>\n",
       "    </tr>\n",
       "  </thead>\n",
       "  <tbody>\n",
       "    <tr>\n",
       "      <th>0</th>\n",
       "      <td>SUTWUYBMBWPLMW-MDWZMJQESA-N</td>\n",
       "      <td>CCCCNC(=S)N/N=C/c1sccc1C</td>\n",
       "      <td>0.914338</td>\n",
       "    </tr>\n",
       "    <tr>\n",
       "      <th>1</th>\n",
       "      <td>RIYHJWOTNJXDLV-UHFFFAOYSA-N</td>\n",
       "      <td>Cn1c(SCc2nc(-c3cccs3)no2)nnc1C1CCCCC1</td>\n",
       "      <td>0.777395</td>\n",
       "    </tr>\n",
       "    <tr>\n",
       "      <th>2</th>\n",
       "      <td>OGNBARHGQVMGGX-UHFFFAOYSA-N</td>\n",
       "      <td>O=C(O)CC(NC(=O)c1cnccn1)c1ccccc1Cl</td>\n",
       "      <td>0.042147</td>\n",
       "    </tr>\n",
       "    <tr>\n",
       "      <th>3</th>\n",
       "      <td>WQEXDIRUOYNDCM-UHFFFAOYSA-N</td>\n",
       "      <td>O=S(=O)(c1ccccc1)N1CCN(c2noc3cccc(Cl)c23)CC1</td>\n",
       "      <td>0.413345</td>\n",
       "    </tr>\n",
       "    <tr>\n",
       "      <th>4</th>\n",
       "      <td>YEGVLLQDOGYWDQ-OAHLLOKOSA-N</td>\n",
       "      <td>CCC[C@@H](C)N(c1cc(Cl)ccc1CO)S(=O)(=O)c1ccc(C)cc1</td>\n",
       "      <td>0.826203</td>\n",
       "    </tr>\n",
       "  </tbody>\n",
       "</table>\n",
       "</div>"
      ],
      "text/plain": [
       "                           key  \\\n",
       "0  SUTWUYBMBWPLMW-MDWZMJQESA-N   \n",
       "1  RIYHJWOTNJXDLV-UHFFFAOYSA-N   \n",
       "2  OGNBARHGQVMGGX-UHFFFAOYSA-N   \n",
       "3  WQEXDIRUOYNDCM-UHFFFAOYSA-N   \n",
       "4  YEGVLLQDOGYWDQ-OAHLLOKOSA-N   \n",
       "\n",
       "                                               input  probability  \n",
       "0                           CCCCNC(=S)N/N=C/c1sccc1C     0.914338  \n",
       "1              Cn1c(SCc2nc(-c3cccs3)no2)nnc1C1CCCCC1     0.777395  \n",
       "2                 O=C(O)CC(NC(=O)c1cnccn1)c1ccccc1Cl     0.042147  \n",
       "3       O=S(=O)(c1ccccc1)N1CCN(c2noc3cccc(Cl)c23)CC1     0.413345  \n",
       "4  CCC[C@@H](C)N(c1cc(Cl)ccc1CO)S(=O)(=O)c1ccc(C)cc1     0.826203  "
      ]
     },
     "execution_count": 10,
     "metadata": {},
     "output_type": "execute_result"
    }
   ],
   "source": [
    "predictions_data = pd.read_csv(\"/home/sonia/ersilia-model-validation/data/output-predictions.csv\")\n",
    "predictions_data.head()"
   ]
  }
 ],
 "metadata": {
  "kernelspec": {
   "display_name": "Python 3 (ipykernel)",
   "language": "python",
   "name": "python3"
  },
  "language_info": {
   "codemirror_mode": {
    "name": "ipython",
    "version": 3
   },
   "file_extension": ".py",
   "mimetype": "text/x-python",
   "name": "python",
   "nbconvert_exporter": "python",
   "pygments_lexer": "ipython3",
   "version": "3.7.12"
  }
 },
 "nbformat": 4,
 "nbformat_minor": 2
}
